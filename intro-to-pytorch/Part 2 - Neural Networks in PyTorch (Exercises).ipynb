{
 "cells": [
  {
   "cell_type": "markdown",
   "metadata": {},
   "source": [
    "# Neural networks with PyTorch\n",
    "\n",
    "Deep learning networks tend to be massive with dozens or hundreds of layers, that's where the term \"deep\" comes from. You can build one of these deep networks using only weight matrices as we did in the previous notebook, but in general it's very cumbersome and difficult to implement. PyTorch has a nice module `nn` that provides a nice way to efficiently build large neural networks."
   ]
  },
  {
   "cell_type": "code",
   "execution_count": 1,
   "metadata": {},
   "outputs": [],
   "source": [
    "# Import necessary packages\n",
    "\n",
    "%matplotlib inline\n",
    "%config InlineBackend.figure_format = 'retina'\n",
    "\n",
    "import numpy as np\n",
    "import torch\n",
    "\n",
    "import helper\n",
    "\n",
    "import matplotlib.pyplot as plt"
   ]
  },
  {
   "cell_type": "markdown",
   "metadata": {},
   "source": [
    "\n",
    "Now we're going to build a larger network that can solve a (formerly) difficult problem, identifying text in an image. Here we'll use the MNIST dataset which consists of greyscale handwritten digits. Each image is 28x28 pixels, you can see a sample below\n",
    "\n",
    "<img src='assets/mnist.png'>\n",
    "\n",
    "Our goal is to build a neural network that can take one of these images and predict the digit in the image.\n",
    "\n",
    "First up, we need to get our dataset. This is provided through the `torchvision` package. The code below will download the MNIST dataset, then create training and test datasets for us. Don't worry too much about the details here, you'll learn more about this later."
   ]
  },
  {
   "cell_type": "code",
   "execution_count": 3,
   "metadata": {},
   "outputs": [],
   "source": [
    "### Run this cell\n",
    "\n",
    "from torchvision import datasets, transforms\n",
    "\n",
    "# Define a transform to normalize the data\n",
    "transform = transforms.Compose([transforms.ToTensor(),\n",
    "                              transforms.Normalize((0.5,), (0.5,)),\n",
    "                              ])\n",
    "\n",
    "# Download and load the training data\n",
    "trainset = datasets.MNIST('~/.pytorch/MNIST_data/', download=True, train=True, transform=transform)\n",
    "trainloader = torch.utils.data.DataLoader(trainset, batch_size=64, shuffle=True)"
   ]
  },
  {
   "cell_type": "markdown",
   "metadata": {},
   "source": [
    "We have the training data loaded into `trainloader` and we make that an iterator with `iter(trainloader)`. Later, we'll use this to loop through the dataset for training, like\n",
    "\n",
    "```python\n",
    "for image, label in trainloader:\n",
    "    ## do things with images and labels\n",
    "```\n",
    "\n",
    "You'll notice I created the `trainloader` with a batch size of 64, and `shuffle=True`. The batch size is the number of images we get in one iteration from the data loader and pass through our network, often called a *batch*. And `shuffle=True` tells it to shuffle the dataset every time we start going through the data loader again. But here I'm just grabbing the first batch so we can check out the data. We can see below that `images` is just a tensor with size `(64, 1, 28, 28)`. So, 64 images per batch, 1 color channel, and 28x28 images."
   ]
  },
  {
   "cell_type": "code",
   "execution_count": 4,
   "metadata": {},
   "outputs": [
    {
     "name": "stdout",
     "output_type": "stream",
     "text": [
      "<class 'torch.Tensor'>\n",
      "torch.Size([64, 1, 28, 28])\n",
      "torch.Size([64])\n"
     ]
    }
   ],
   "source": [
    "dataiter = iter(trainloader)\n",
    "images, labels = dataiter.next()\n",
    "print(type(images))\n",
    "print(images.shape)\n",
    "print(labels.shape)"
   ]
  },
  {
   "cell_type": "markdown",
   "metadata": {},
   "source": [
    "This is what one of the images looks like. "
   ]
  },
  {
   "cell_type": "code",
   "execution_count": 5,
   "metadata": {},
   "outputs": [
    {
     "data": {
      "image/png": "[encoded data removed]",
      "text/plain": [
       "<Figure size 432x288 with 1 Axes>"
      ]
     },
     "metadata": {
      "image/png": {
       "height": 248,
       "width": 251
      },
      "needs_background": "light"
     },
     "output_type": "display_data"
    }
   ],
   "source": [
    "plt.imshow(images[1].numpy().squeeze(), cmap='Greys_r');"
   ]
  },
  {
   "cell_type": "markdown",
   "metadata": {},
   "source": [
    "First, let's try to build a simple network for this dataset using weight matrices and matrix multiplications. Then, we'll see how to do it using PyTorch's `nn` module which provides a much more convenient and powerful method for defining network architectures.\n",
    "\n",
    "The networks you've seen so far are called *fully-connected* or *dense* networks. Each unit in one layer is connected to each unit in the next layer. In fully-connected networks, the input to each layer must be a one-dimensional vector (which can be stacked into a 2D tensor as a batch of multiple examples). However, our images are 28x28 2D tensors, so we need to convert them into 1D vectors. Thinking about sizes, we need to convert the batch of images with shape `(64, 1, 28, 28)` to a have a shape of `(64, 784)`, 784 is 28 times 28. This is typically called *flattening*, we flattened the 2D images into 1D vectors.\n",
    "\n",
    "Previously you built a network with one output unit. Here we need 10 output units, one for each digit. We want our network to predict the digit shown in an image, so what we'll do is calculate probabilities that the image is of any one digit or class. This ends up being a discrete probability distribution over the classes (digits) that tells us the most likely class for the image. That means we need 10 output units for the 10 classes (digits). We'll see how to convert the network output into a probability distribution next.\n",
    "\n",
    "> **Exercise:** Flatten the batch of images `images`. Then build a multi-layer network with 784 input units, 256 hidden units, and 10 output units using random tensors for the weights and biases. For now, use a sigmoid activation for the hidden layer. Leave the output layer without an activation, we'll add one that gives us a probability distribution next."
   ]
  },
  {
   "cell_type": "code",
   "execution_count": 7,
   "metadata": {},
   "outputs": [
    {
     "name": "stdout",
     "output_type": "stream",
     "text": [
      "torch.Size([64, 784])\n",
      "tensor([[-2.4010e-01,  4.1706e+00,  4.0863e+00,  1.5688e+01,  8.3883e+00,\n",
      "          3.0314e+01,  1.9635e+01, -8.1382e+00, -6.1470e+00, -1.5281e+00],\n",
      "        [ 5.3959e-01,  5.9409e+00,  4.9208e+00,  6.0363e+00, -6.7779e+00,\n",
      "          2.6703e+01,  3.3236e+01, -1.7188e+01, -6.9000e+00, -3.7999e+00],\n",
      "        [-5.9783e+00, -2.8598e-01,  2.2021e+00,  1.5745e+00, -3.4993e+00,\n",
      "          2.5250e+01,  1.2268e+01, -5.1864e+00,  1.5063e+00, -4.8363e+00],\n",
      "        [-1.0007e+01, -1.6533e+00,  6.6044e+00,  1.9897e+00, -1.8439e+00,\n",
      "          2.5224e+01,  1.1187e+01, -8.3878e+00, -2.0559e+00,  3.9747e+00],\n",
      "        [-3.1494e+00, -4.8366e-02,  6.9003e+00,  8.1315e+00,  2.0423e+00,\n",
      "          2.1826e+01,  2.3958e+01, -1.6388e+01, -3.6119e+00, -3.8461e-01],\n",
      "        [-7.8641e+00, -2.9886e+00,  5.1187e+00,  1.0194e+01, -7.3082e+00,\n",
      "          2.1951e+01,  1.6891e+01, -8.4078e+00,  1.9808e+00,  7.5331e+00],\n",
      "        [-8.7346e+00, -4.7339e+00,  6.2332e+00,  1.9726e+00, -8.0638e+00,\n",
      "          1.5180e+01,  1.9173e+01, -1.0598e+00, -4.2471e+00, -1.9989e+00],\n",
      "        [ 1.0883e+00, -2.1334e+01,  1.3318e+01,  2.1344e+00, -3.5572e-01,\n",
      "          2.6238e+01,  2.6248e+01, -1.6885e+01, -1.2446e+01,  9.0375e-01],\n",
      "        [ 3.0664e+00, -4.4312e+00,  5.9947e+00,  2.7142e+00, -6.0893e+00,\n",
      "          2.4733e+01,  1.9829e+01, -9.5203e+00, -5.2345e+00, -7.0334e-01],\n",
      "        [-9.4264e-01, -6.4448e+00,  5.5127e+00,  4.9129e+00, -5.0299e+00,\n",
      "          3.1613e+01,  2.6206e+01, -1.6398e+01,  1.0900e+00, -9.6118e-01],\n",
      "        [-2.8933e+00, -8.5746e+00,  4.6744e+00,  6.6235e-01, -4.6348e+00,\n",
      "          1.9173e+01,  2.1126e+01, -1.7435e+01, -1.0907e+01, -3.1432e+00],\n",
      "        [-1.2287e+01, -1.4959e+01, -5.6385e+00,  3.9058e+00, -1.6775e+00,\n",
      "          2.5946e+01,  2.4069e+01, -1.4315e+01,  1.1227e+00, -2.4758e+00],\n",
      "        [ 1.0755e+00, -1.4429e+01,  3.1183e+00,  7.2147e+00, -3.7059e+00,\n",
      "          1.2991e+01,  2.2516e+01, -6.8952e+00,  4.7142e+00,  1.1089e+01],\n",
      "        [-2.0752e+00, -3.1489e+00,  7.7862e+00, -1.3936e+00, -7.1933e+00,\n",
      "          2.2473e+01,  1.4735e+01, -2.5408e+01,  1.1500e+00,  4.6287e+00],\n",
      "        [-4.4732e+00, -7.9209e+00,  1.8727e+00,  4.9794e+00, -3.9485e+00,\n",
      "          1.5337e+01,  2.4284e+01, -8.0009e+00, -4.2058e+00,  8.3611e-01],\n",
      "        [-1.0841e+01,  1.5872e+00,  2.3124e+00,  5.1540e+00, -1.1496e+01,\n",
      "          1.7438e+01,  2.2041e+01, -2.6904e+01, -4.5850e+00,  4.8818e-01],\n",
      "        [-4.7247e+00, -1.1603e+00,  6.7770e+00, -2.3638e+00, -3.5439e-01,\n",
      "          2.3853e+01,  2.4068e+01, -8.0093e+00, -5.0869e+00, -7.0224e+00],\n",
      "        [-5.9883e+00, -8.2552e+00,  1.1271e+00,  5.6412e+00, -7.8457e+00,\n",
      "          2.6772e+01,  1.5499e+01, -1.6273e+01, -4.6338e+00,  6.1093e+00],\n",
      "        [-1.4213e+01, -9.7581e+00,  1.1969e+01,  4.2607e+00, -3.1160e+00,\n",
      "          1.9208e+01,  1.3565e+01, -1.2169e+01, -5.7094e+00,  5.2994e+00],\n",
      "        [-6.1486e+00, -7.1817e+00,  5.6709e+00,  1.3510e+00, -2.1676e+00,\n",
      "          2.2155e+01,  2.8240e+01, -1.9815e+01, -8.1816e+00, -2.0421e+00],\n",
      "        [ 2.4380e+00, -9.7295e-01,  6.2577e+00,  6.0838e+00, -2.7606e+00,\n",
      "          3.3045e+01,  2.7774e+01, -2.5803e+01, -2.6115e+00,  5.1709e+00],\n",
      "        [-2.1070e-01, -2.0009e+00, -1.1064e+00,  5.0708e+00, -9.0834e+00,\n",
      "          2.5799e+01,  1.6470e+01, -1.1007e+01, -4.9102e+00, -5.5359e+00],\n",
      "        [-1.1368e+01,  1.2754e+00,  6.8803e+00,  6.5298e+00, -1.0370e+01,\n",
      "          2.7576e+01,  2.7072e+01, -4.3085e+00, -4.6426e+00,  5.2012e+00],\n",
      "        [-2.3561e+00, -1.1903e+01,  9.2613e+00,  4.2932e+00, -6.8644e+00,\n",
      "          8.2692e+00,  2.6273e+01, -6.1629e+00, -7.5115e+00, -2.3780e+00],\n",
      "        [-8.0182e+00, -8.7989e+00,  1.0578e+01,  6.6019e+00, -8.3982e+00,\n",
      "          1.9318e+01,  3.0496e+01, -8.3251e+00, -4.0258e+00,  4.2141e+00],\n",
      "        [-1.2337e+01, -1.0670e+01,  1.2672e+01,  6.3593e+00, -3.5342e+00,\n",
      "          1.6645e+01,  1.9012e+01, -1.5092e+01, -4.4158e+00,  8.7836e-02],\n",
      "        [ 7.8730e-02, -3.0620e+00,  4.1437e+00,  1.0296e+01, -1.2702e+01,\n",
      "          2.3281e+01,  2.4320e+01, -2.3613e+01,  7.3707e-02,  7.9781e+00],\n",
      "        [-2.5722e-01, -1.9977e+00,  1.1632e+01,  6.9306e+00, -8.7266e+00,\n",
      "          2.5447e+01,  2.7513e+01, -1.7270e+01, -4.0585e+00,  2.2178e+00],\n",
      "        [ 5.6184e+00, -5.6675e+00,  1.1865e+01, -4.8879e+00, -8.1413e+00,\n",
      "          1.3894e+01,  1.7360e+01, -1.0865e+01, -1.8785e+00,  8.7117e+00],\n",
      "        [-2.4137e+00, -1.3633e+01,  8.9675e+00,  5.5906e+00, -4.3477e-01,\n",
      "          1.8190e+01,  2.5407e+01, -1.5428e+01, -9.8417e+00,  9.5599e+00],\n",
      "        [-9.9527e+00, -1.1762e+01,  4.0683e+00,  1.7791e+01, -3.5043e+00,\n",
      "          1.8075e+01,  2.7013e+01, -6.2448e+00, -7.6653e+00,  1.7889e+00],\n",
      "        [-8.1905e+00, -4.1566e+00,  3.6784e+00,  7.2299e+00, -5.5434e+00,\n",
      "          2.6376e+01,  2.5543e+01, -1.2680e+01,  1.1428e+00, -3.3707e+00],\n",
      "        [-1.9239e+00, -1.0204e+01,  1.1161e+01,  5.3681e+00, -1.6100e+00,\n",
      "          1.6783e+01,  1.0563e+01, -5.5691e+00,  6.7502e+00,  4.8774e+00],\n",
      "        [ 4.9372e+00, -1.5307e+00,  8.8140e+00, -2.4701e+00, -1.8938e+00,\n",
      "          2.5653e+01,  1.4468e+01, -1.2035e+01, -3.4640e+00,  5.1103e+00],\n",
      "        [-1.4219e+01, -1.4319e+00,  8.2708e+00,  6.2148e+00, -6.8787e-01,\n",
      "          1.9463e+01,  3.0321e+01, -1.5137e+01,  1.9937e+00,  8.8076e-01],\n",
      "        [-5.8718e+00, -9.3607e+00,  3.1546e+00,  6.4254e-01, -2.6024e+00,\n",
      "          1.4098e+01,  2.3615e+01, -1.7043e+00, -1.0232e+01,  8.5259e-01],\n",
      "        [-8.0426e+00, -2.3441e+01,  9.9940e+00, -5.1387e+00, -2.6649e+00,\n",
      "          2.4316e+01,  1.6894e+01, -6.2835e+00,  2.9626e+00,  6.4578e+00],\n",
      "        [ 2.0549e+00, -4.3081e+00,  9.7713e+00, -6.4629e+00, -5.9619e+00,\n",
      "          2.1382e+01,  2.3869e+01, -1.5619e+01, -1.1280e+01, -1.5720e+00],\n",
      "        [ 2.0070e+00, -1.0107e+01,  7.3578e+00,  8.2965e+00, -1.6836e+00,\n",
      "          1.7153e+01,  2.4150e+01, -1.1448e+01, -5.0110e+00, -3.6565e-01],\n",
      "        [ 3.2071e+00, -1.0245e+01,  1.3997e+01,  4.3195e+00, -6.3092e+00,\n",
      "          2.1645e+01,  8.6973e+00, -3.2427e+00, -1.6198e+00,  2.7421e+00],\n",
      "        [-1.0409e+01, -9.0344e+00,  1.3598e+01,  9.4479e+00,  1.9560e+00,\n",
      "          8.1181e+00,  1.6317e+01, -3.2091e+00,  4.0566e+00,  2.6973e+00],\n",
      "        [-1.0111e+01, -9.0162e+00,  1.7046e+01,  8.6580e+00, -3.1875e-03,\n",
      "          1.3805e+01,  1.6241e+01, -2.8645e+00, -1.0780e+00,  3.5445e+00],\n",
      "        [-2.6934e+00, -1.1106e+01,  4.0075e+00,  9.2697e+00,  1.4498e+00,\n",
      "          2.1917e+01,  1.1557e+01, -1.8827e+01,  2.2891e+00,  2.3434e+00],\n",
      "        [-7.2506e+00, -3.8403e+00,  4.7983e+00, -1.4089e+00, -5.3750e+00,\n",
      "          2.0430e+01,  1.4319e+01, -1.3233e+01, -2.5135e+00,  1.1306e-01],\n",
      "        [-6.0238e+00, -1.2367e+01,  1.5338e+01,  9.2670e+00,  4.4582e+00,\n",
      "          1.3358e+01,  1.8360e+01, -5.0625e+00,  5.3383e+00,  5.1499e+00],\n",
      "        [-1.4842e+00, -3.1459e+00,  6.8241e+00,  4.0055e+00, -3.2725e+00,\n",
      "          2.1886e+01,  2.1724e+01, -9.7943e+00,  2.9049e+00, -3.8520e-02],\n",
      "        [-6.8482e+00, -1.4527e+01,  7.2809e+00,  5.9221e+00, -4.3610e+00,\n",
      "          1.7752e+01,  1.7191e+01, -1.7345e+01, -1.1276e+00,  7.6964e+00],\n",
      "        [ 3.2619e+00, -4.9037e+00,  1.6209e+01, -2.0134e+00, -1.2503e+01,\n",
      "          2.5467e+01,  1.3497e+01, -1.0042e+01,  1.0128e+00,  1.5186e+00],\n",
      "        [-3.2196e+00, -1.0609e+01,  5.1868e+00,  6.1144e+00, -5.4323e-02,\n",
      "          2.2823e+01,  1.9789e+01, -8.2031e+00,  4.9565e-01,  2.1077e+00],\n",
      "        [-7.5309e+00, -9.6661e+00,  5.4844e+00,  4.0723e+00, -2.1686e+00,\n",
      "          1.8122e+01,  1.5259e+01, -9.7572e+00, -7.6211e+00,  2.1598e+00],\n",
      "        [-5.2099e+00, -7.8537e+00,  9.9397e+00,  1.4206e+01, -1.4049e+01,\n",
      "          2.1143e+01,  2.5271e+01, -1.1777e+00, -7.3168e+00,  1.0986e+00],\n",
      "        [-9.5925e+00, -2.0213e+00,  1.5329e+00,  1.6294e+00,  4.5273e+00,\n",
      "          1.4826e+01,  1.4075e+01, -1.4197e+01, -3.4309e+00,  1.1864e+00],\n",
      "        [-9.9256e+00, -8.1493e+00, -3.6148e+00,  2.2309e+00, -6.4789e+00,\n",
      "          2.6871e+01,  1.9763e+01, -2.3511e+01,  2.3296e+00,  4.9278e+00],\n",
      "        [-1.2219e+01, -7.3524e+00,  3.1722e+00,  5.1882e+00, -9.2980e+00,\n",
      "          2.4116e+01,  2.7657e+01, -1.3892e+01, -9.2468e+00,  3.6707e+00],\n",
      "        [-7.6280e+00, -3.5415e+00,  5.8583e+00,  8.9136e+00, -6.1066e+00,\n",
      "          2.7517e+01,  2.2092e+01, -1.0258e+01, -7.1355e-01,  6.7456e+00],\n",
      "        [-1.7219e+00, -2.3320e+00,  8.5218e+00,  7.1266e+00, -6.0672e+00,\n",
      "          2.0563e+01,  2.1513e+01, -1.0937e+01,  2.4595e+00,  3.1224e+00],\n",
      "        [-6.6363e+00, -5.5902e+00,  2.6766e+00, -2.4442e+00, -1.3348e+01,\n",
      "          2.7939e+01,  1.5624e+01, -8.0724e+00, -1.1097e+00,  1.7413e-02],\n",
      "        [-1.1022e+01, -7.2533e+00,  8.1211e+00,  1.7351e+00, -5.3674e+00,\n",
      "          1.0490e+01,  2.0590e+01, -7.9459e+00, -3.1456e+00,  7.0467e+00],\n",
      "        [-8.3984e+00, -9.6121e+00,  6.0160e+00,  7.2213e+00, -9.7553e-01,\n",
      "          1.4386e+01,  1.6876e+01, -6.9094e+00, -8.5676e-01,  1.3382e+00],\n",
      "        [-9.7168e+00, -1.1632e+01,  1.8045e+01, -9.1527e-01,  2.3671e+00,\n",
      "          2.7745e+01,  2.9053e+01, -9.4605e+00, -7.0410e+00, -1.1811e+00],\n",
      "        [ 1.0231e+00,  6.9456e-01,  1.0726e+00,  1.3200e+00, -5.2934e+00,\n",
      "          2.2668e+01,  1.0436e+01, -1.2369e+01,  6.3799e-01, -4.2589e+00],\n",
      "        [-4.0914e+00, -1.2719e+01, -1.9290e+00,  3.7483e+00, -3.4959e+00,\n",
      "          2.3987e+01,  2.1697e+01, -1.4264e+01,  3.6508e-01, -1.1099e+00],\n",
      "        [-9.0508e+00, -8.6860e+00,  5.8459e+00,  4.3133e+00, -3.6833e+00,\n",
      "          1.4072e+01,  1.6645e+01, -1.1556e+01, -2.4886e+00,  1.6546e+00],\n",
      "        [-1.4898e+00, -8.7977e+00, -3.1787e-01,  2.0477e-01, -7.8070e+00,\n",
      "          9.4738e+00,  2.2840e+01, -9.6923e+00,  8.5291e-01,  3.9430e+00]])\n"
     ]
    }
   ],
   "source": [
    "## Your solution\n",
    "def activation(x):\n",
    "    return 1/(1+torch.exp(-x))\n",
    "\n",
    "\n",
    "inpt = images.view(images.shape[0], -1)\n",
    "print(inpt.shape)\n",
    "\n",
    "n_input = 784\n",
    "n_hidden = 256\n",
    "n_out = 10\n",
    "\n",
    "W1 = torch.randn(n_input, n_hidden)\n",
    "B1 = torch.randn(n_hidden)\n",
    "\n",
    "W2 = torch.randn(n_hidden, n_out)\n",
    "B2 = torch.randn(n_out)\n",
    "\n",
    "h = activation(torch.mm(inpt, W1) + B1)\n",
    "\n",
    "out = torch.mm(h, W2) + B2\n",
    "print(out)\n",
    "# output of your network, should have shape (64,10)"
   ]
  },
  {
   "cell_type": "markdown",
   "metadata": {},
   "source": [
    "Now we have 10 outputs for our network. We want to pass in an image to our network and get out a probability distribution over the classes that tells us the likely class(es) the image belongs to. Something that looks like this:\n",
    "<img src='assets/image_distribution.png' width=500px>\n",
    "\n",
    "Here we see that the probability for each class is roughly the same. This is representing an untrained network, it hasn't seen any data yet so it just returns a uniform distribution with equal probabilities for each class.\n",
    "\n",
    "To calculate this probability distribution, we often use the [**softmax** function](https://en.wikipedia.org/wiki/Softmax_function). Mathematically this looks like\n",
    "\n",
    "$$\n",
    "\\Large \\sigma(x_i) = \\cfrac{e^{x_i}}{\\sum_k^K{e^{x_k}}}\n",
    "$$\n",
    "\n",
    "What this does is squish each input $x_i$ between 0 and 1 and normalizes the values to give you a proper probability distribution where the probabilites sum up to one.\n",
    "\n",
    "> **Exercise:** Implement a function `softmax` that performs the softmax calculation and returns probability distributions for each example in the batch. Note that you'll need to pay attention to the shapes when doing this. If you have a tensor `a` with shape `(64, 10)` and a tensor `b` with shape `(64,)`, doing `a/b` will give you an error because PyTorch will try to do the division across the columns (called broadcasting) but you'll get a size mismatch. The way to think about this is for each of the 64 examples, you only want to divide by one value, the sum in the denominator. So you need `b` to have a shape of `(64, 1)`. This way PyTorch will divide the 10 values in each row of `a` by the one value in each row of `b`. Pay attention to how you take the sum as well. You'll need to define the `dim` keyword in `torch.sum`. Setting `dim=0` takes the sum across the rows while `dim=1` takes the sum across the columns."
   ]
  },
  {
   "cell_type": "code",
   "execution_count": 8,
   "metadata": {},
   "outputs": [
    {
     "name": "stdout",
     "output_type": "stream",
     "text": [
      "torch.Size([64, 10])\n",
      "tensor([1.0000, 1.0000, 1.0000, 1.0000, 1.0000, 1.0000, 1.0000, 1.0000, 1.0000,\n",
      "        1.0000, 1.0000, 1.0000, 1.0000, 1.0000, 1.0000, 1.0000, 1.0000, 1.0000,\n",
      "        1.0000, 1.0000, 1.0000, 1.0000, 1.0000, 1.0000, 1.0000, 1.0000, 1.0000,\n",
      "        1.0000, 1.0000, 1.0000, 1.0000, 1.0000, 1.0000, 1.0000, 1.0000, 1.0000,\n",
      "        1.0000, 1.0000, 1.0000, 1.0000, 1.0000, 1.0000, 1.0000, 1.0000, 1.0000,\n",
      "        1.0000, 1.0000, 1.0000, 1.0000, 1.0000, 1.0000, 1.0000, 1.0000, 1.0000,\n",
      "        1.0000, 1.0000, 1.0000, 1.0000, 1.0000, 1.0000, 1.0000, 1.0000, 1.0000,\n",
      "        1.0000])\n"
     ]
    }
   ],
   "source": [
    "def softmax(x):\n",
    "    ## TODO: Implement the softmax function here\n",
    "    exp = torch.exp(x)\n",
    "    s_total = exp.sum(dim=1).view(-1, 1)\n",
    "    return exp/s_total\n",
    "\n",
    "# Here, out should be the output of the network in the previous excercise with shape (64,10)\n",
    "probabilities = softmax(out)\n",
    "\n",
    "# Does it have the right shape? Should be (64, 10)\n",
    "print(probabilities.shape)\n",
    "# Does it sum to 1?\n",
    "print(probabilities.sum(dim=1))"
   ]
  },
  {
   "cell_type": "markdown",
   "metadata": {},
   "source": [
    "## Building networks with PyTorch\n",
    "\n",
    "PyTorch provides a module `nn` that makes building networks much simpler. Here I'll show you how to build the same one as above with 784 inputs, 256 hidden units, 10 output units and a softmax output."
   ]
  },
  {
   "cell_type": "code",
   "execution_count": 9,
   "metadata": {},
   "outputs": [],
   "source": [
    "from torch import nn"
   ]
  },
  {
   "cell_type": "code",
   "execution_count": 10,
   "metadata": {},
   "outputs": [],
   "source": [
    "class Network(nn.Module):\n",
    "    def __init__(self):\n",
    "        super().__init__()\n",
    "        \n",
    "        # Inputs to hidden layer linear transformation\n",
    "        self.hidden = nn.Linear(784, 256)\n",
    "        # Output layer, 10 units - one for each digit\n",
    "        self.output = nn.Linear(256, 10)\n",
    "        \n",
    "        # Define sigmoid activation and softmax output \n",
    "        self.sigmoid = nn.Sigmoid()\n",
    "        self.softmax = nn.Softmax(dim=1)\n",
    "        \n",
    "    def forward(self, x):\n",
    "        # Pass the input tensor through each of our operations\n",
    "        x = self.hidden(x)\n",
    "        x = self.sigmoid(x)\n",
    "        x = self.output(x)\n",
    "        x = self.softmax(x)\n",
    "        \n",
    "        return x"
   ]
  },
  {
   "cell_type": "markdown",
   "metadata": {},
   "source": [
    "Let's go through this bit by bit.\n",
    "\n",
    "```python\n",
    "class Network(nn.Module):\n",
    "```\n",
    "\n",
    "Here we're inheriting from `nn.Module`. Combined with `super().__init__()` this creates a class that tracks the architecture and provides a lot of useful methods and attributes. It is mandatory to inherit from `nn.Module` when you're creating a class for your network. The name of the class itself can be anything.\n",
    "\n",
    "```python\n",
    "self.hidden = nn.Linear(784, 256)\n",
    "```\n",
    "\n",
    "This line creates a module for a linear transformation, $x\\mathbf{W} + b$, with 784 inputs and 256 outputs and assigns it to `self.hidden`. The module automatically creates the weight and bias tensors which we'll use in the `forward` method. You can access the weight and bias tensors once the network (`net`) is created with `net.hidden.weight` and `net.hidden.bias`.\n",
    "\n",
    "```python\n",
    "self.output = nn.Linear(256, 10)\n",
    "```\n",
    "\n",
    "Similarly, this creates another linear transformation with 256 inputs and 10 outputs.\n",
    "\n",
    "```python\n",
    "self.sigmoid = nn.Sigmoid()\n",
    "self.softmax = nn.Softmax(dim=1)\n",
    "```\n",
    "\n",
    "Here I defined operations for the sigmoid activation and softmax output. Setting `dim=1` in `nn.Softmax(dim=1)` calculates softmax across the columns.\n",
    "\n",
    "```python\n",
    "def forward(self, x):\n",
    "```\n",
    "\n",
    "PyTorch networks created with `nn.Module` must have a `forward` method defined. It takes in a tensor `x` and passes it through the operations you defined in the `__init__` method.\n",
    "\n",
    "```python\n",
    "x = self.hidden(x)\n",
    "x = self.sigmoid(x)\n",
    "x = self.output(x)\n",
    "x = self.softmax(x)\n",
    "```\n",
    "\n",
    "Here the input tensor `x` is passed through each operation and reassigned to `x`. We can see that the input tensor goes through the hidden layer, then a sigmoid function, then the output layer, and finally the softmax function. It doesn't matter what you name the variables here, as long as the inputs and outputs of the operations match the network architecture you want to build. The order in which you define things in the `__init__` method doesn't matter, but you'll need to sequence the operations correctly in the `forward` method.\n",
    "\n",
    "Now we can create a `Network` object."
   ]
  },
  {
   "cell_type": "code",
   "execution_count": 11,
   "metadata": {},
   "outputs": [
    {
     "data": {
      "text/plain": [
       "Network(\n",
       "  (hidden): Linear(in_features=784, out_features=256, bias=True)\n",
       "  (output): Linear(in_features=256, out_features=10, bias=True)\n",
       "  (sigmoid): Sigmoid()\n",
       "  (softmax): Softmax(dim=1)\n",
       ")"
      ]
     },
     "execution_count": 11,
     "metadata": {},
     "output_type": "execute_result"
    }
   ],
   "source": [
    "# Create the network and look at it's text representation\n",
    "model = Network()\n",
    "model"
   ]
  },
  {
   "cell_type": "markdown",
   "metadata": {},
   "source": [
    "You can define the network somewhat more concisely and clearly using the `torch.nn.functional` module. This is the most common way you'll see networks defined as many operations are simple element-wise functions. We normally import this module as `F`, `import torch.nn.functional as F`."
   ]
  },
  {
   "cell_type": "code",
   "execution_count": 12,
   "metadata": {},
   "outputs": [],
   "source": [
    "import torch.nn.functional as F\n",
    "\n",
    "class Network(nn.Module):\n",
    "    def __init__(self):\n",
    "        super().__init__()\n",
    "        # Inputs to hidden layer linear transformation\n",
    "        self.hidden = nn.Linear(784, 256)\n",
    "        # Output layer, 10 units - one for each digit\n",
    "        self.output = nn.Linear(256, 10)\n",
    "        \n",
    "    def forward(self, x):\n",
    "        # Hidden layer with sigmoid activation\n",
    "        x = F.sigmoid(self.hidden(x))\n",
    "        # Output layer with softmax activation\n",
    "        x = F.softmax(self.output(x), dim=1)\n",
    "        \n",
    "        return x"
   ]
  },
  {
   "cell_type": "markdown",
   "metadata": {},
   "source": [
    "### Activation functions\n",
    "\n",
    "So far we've only been looking at the sigmoid activation function, but in general any function can be used as an activation function. The only requirement is that for a network to approximate a non-linear function, the activation functions must be non-linear. Here are a few more examples of common activation functions: Tanh (hyperbolic tangent), and ReLU (rectified linear unit).\n",
    "\n",
    "<img src=\"assets/activation.png\" width=700px>\n",
    "\n",
    "In practice, the ReLU function is used almost exclusively as the activation function for hidden layers."
   ]
  },
  {
   "cell_type": "markdown",
   "metadata": {},
   "source": [
    "### Your Turn to Build a Network\n",
    "\n",
    "<img src=\"assets/mlp_mnist.png\" width=600px>\n",
    "\n",
    "> **Exercise:** Create a network with 784 input units, a hidden layer with 128 units and a ReLU activation, then a hidden layer with 64 units and a ReLU activation, and finally an output layer with a softmax activation as shown above. You can use a ReLU activation with the `nn.ReLU` module or `F.relu` function.\n",
    "\n",
    "It's good practice to name your layers by their type of network, for instance 'fc' to represent a fully-connected layer. As you code your solution, use `fc1`, `fc2`, and `fc3` as your layer names."
   ]
  },
  {
   "cell_type": "code",
   "execution_count": 14,
   "metadata": {
    "scrolled": true
   },
   "outputs": [
    {
     "data": {
      "text/plain": [
       "RedNeuronal(\n",
       "  (fc1): Linear(in_features=784, out_features=128, bias=True)\n",
       "  (fc2): Linear(in_features=128, out_features=64, bias=True)\n",
       "  (fc3): Linear(in_features=64, out_features=10, bias=True)\n",
       ")"
      ]
     },
     "execution_count": 14,
     "metadata": {},
     "output_type": "execute_result"
    }
   ],
   "source": [
    "## Your solution here\n",
    "import torch.nn.functional as F\n",
    "\n",
    "class RedNeuronal(nn.Module):\n",
    "    def __init__(self):\n",
    "        super().__init__()\n",
    "        # Inputs to hidden layer linear transformation\n",
    "        self.fc1 = nn.Linear(784, 128)\n",
    "        self.fc2 = nn.Linear(128, 64)\n",
    "        # Output layer, 10 units - one for each digit\n",
    "        self.fc3 = nn.Linear(64, 10)\n",
    "        \n",
    "    def forward(self, x):\n",
    "        # Hidden layer with sigmoid activation\n",
    "        x = F.relu(self.fc1(x))\n",
    "        x = F.relu(self.fc2(x))\n",
    "        # Output layer with softmax activation\n",
    "        x = F.softmax(self.fc3(x), dim=1)\n",
    "        \n",
    "        return x\n",
    "    \n",
    "model = RedNeuronal()\n",
    "model"
   ]
  },
  {
   "cell_type": "markdown",
   "metadata": {},
   "source": [
    "### Initializing weights and biases\n",
    "\n",
    "The weights and such are automatically initialized for you, but it's possible to customize how they are initialized. The weights and biases are tensors attached to the layer you defined, you can get them with `model.fc1.weight` for instance."
   ]
  },
  {
   "cell_type": "code",
   "execution_count": 15,
   "metadata": {},
   "outputs": [
    {
     "name": "stdout",
     "output_type": "stream",
     "text": [
      "Parameter containing:\n",
      "tensor([[ 0.0201,  0.0066, -0.0334,  ..., -0.0221,  0.0053, -0.0160],\n",
      "        [-0.0137,  0.0061,  0.0027,  ...,  0.0357,  0.0109,  0.0334],\n",
      "        [ 0.0322, -0.0332,  0.0069,  ...,  0.0069, -0.0343,  0.0034],\n",
      "        ...,\n",
      "        [-0.0022, -0.0204,  0.0158,  ..., -0.0314,  0.0188, -0.0283],\n",
      "        [-0.0128, -0.0033,  0.0047,  ..., -0.0144, -0.0306, -0.0190],\n",
      "        [ 0.0265,  0.0177,  0.0297,  ...,  0.0047,  0.0331, -0.0124]],\n",
      "       requires_grad=True)\n",
      "Parameter containing:\n",
      "tensor([ 0.0334, -0.0164, -0.0182, -0.0134, -0.0186,  0.0029, -0.0023, -0.0343,\n",
      "         0.0056,  0.0156, -0.0036,  0.0318,  0.0084,  0.0332,  0.0136,  0.0141,\n",
      "         0.0083, -0.0173, -0.0214, -0.0007,  0.0154, -0.0152,  0.0097,  0.0076,\n",
      "         0.0149,  0.0007,  0.0246, -0.0308,  0.0070, -0.0306, -0.0127,  0.0021,\n",
      "         0.0303, -0.0173, -0.0100, -0.0116, -0.0340,  0.0108,  0.0037, -0.0116,\n",
      "        -0.0122, -0.0233, -0.0272, -0.0094,  0.0166, -0.0346,  0.0253, -0.0283,\n",
      "        -0.0269,  0.0157,  0.0080, -0.0293, -0.0057, -0.0034, -0.0026,  0.0256,\n",
      "        -0.0024,  0.0289, -0.0265, -0.0150,  0.0314, -0.0243, -0.0137, -0.0289,\n",
      "        -0.0031,  0.0303, -0.0317, -0.0165, -0.0191,  0.0242, -0.0047, -0.0252,\n",
      "         0.0139,  0.0029, -0.0031, -0.0169, -0.0033,  0.0033, -0.0114, -0.0276,\n",
      "         0.0293,  0.0159, -0.0321, -0.0227, -0.0165, -0.0171, -0.0200, -0.0279,\n",
      "         0.0234, -0.0101, -0.0243,  0.0275, -0.0112, -0.0224, -0.0265,  0.0034,\n",
      "        -0.0207,  0.0206,  0.0117, -0.0326, -0.0317,  0.0061,  0.0348, -0.0246,\n",
      "        -0.0012, -0.0056,  0.0033, -0.0234, -0.0160,  0.0103,  0.0060,  0.0122,\n",
      "        -0.0087,  0.0070, -0.0313, -0.0034, -0.0014, -0.0169,  0.0108, -0.0318,\n",
      "         0.0070, -0.0311, -0.0168,  0.0238, -0.0249,  0.0049, -0.0084,  0.0098],\n",
      "       requires_grad=True)\n"
     ]
    }
   ],
   "source": [
    "print(model.fc1.weight)\n",
    "print(model.fc1.bias)"
   ]
  },
  {
   "cell_type": "markdown",
   "metadata": {},
   "source": [
    "For custom initialization, we want to modify these tensors in place. These are actually autograd *Variables*, so we need to get back the actual tensors with `model.fc1.weight.data`. Once we have the tensors, we can fill them with zeros (for biases) or random normal values."
   ]
  },
  {
   "cell_type": "code",
   "execution_count": 16,
   "metadata": {},
   "outputs": [
    {
     "data": {
      "text/plain": [
       "tensor([0., 0., 0., 0., 0., 0., 0., 0., 0., 0., 0., 0., 0., 0., 0., 0., 0., 0., 0., 0., 0., 0., 0., 0.,\n",
       "        0., 0., 0., 0., 0., 0., 0., 0., 0., 0., 0., 0., 0., 0., 0., 0., 0., 0., 0., 0., 0., 0., 0., 0.,\n",
       "        0., 0., 0., 0., 0., 0., 0., 0., 0., 0., 0., 0., 0., 0., 0., 0., 0., 0., 0., 0., 0., 0., 0., 0.,\n",
       "        0., 0., 0., 0., 0., 0., 0., 0., 0., 0., 0., 0., 0., 0., 0., 0., 0., 0., 0., 0., 0., 0., 0., 0.,\n",
       "        0., 0., 0., 0., 0., 0., 0., 0., 0., 0., 0., 0., 0., 0., 0., 0., 0., 0., 0., 0., 0., 0., 0., 0.,\n",
       "        0., 0., 0., 0., 0., 0., 0., 0.])"
      ]
     },
     "execution_count": 16,
     "metadata": {},
     "output_type": "execute_result"
    }
   ],
   "source": [
    "# Set biases to all zeros\n",
    "model.fc1.bias.data.fill_(0)"
   ]
  },
  {
   "cell_type": "code",
   "execution_count": 17,
   "metadata": {},
   "outputs": [
    {
     "data": {
      "text/plain": [
       "tensor([[ 0.0087, -0.0062, -0.0091,  ...,  0.0021,  0.0004,  0.0007],\n",
       "        [-0.0169,  0.0027,  0.0043,  ...,  0.0024, -0.0026, -0.0034],\n",
       "        [ 0.0177, -0.0120, -0.0037,  ...,  0.0054, -0.0101,  0.0036],\n",
       "        ...,\n",
       "        [-0.0116,  0.0145,  0.0141,  ...,  0.0017,  0.0124, -0.0150],\n",
       "        [-0.0041,  0.0017,  0.0083,  ...,  0.0089,  0.0136, -0.0084],\n",
       "        [-0.0054, -0.0114,  0.0089,  ...,  0.0088, -0.0030, -0.0048]])"
      ]
     },
     "execution_count": 17,
     "metadata": {},
     "output_type": "execute_result"
    }
   ],
   "source": [
    "# sample from random normal with standard dev = 0.01\n",
    "model.fc1.weight.data.normal_(std=0.01)"
   ]
  },
  {
   "cell_type": "markdown",
   "metadata": {},
   "source": [
    "### Forward pass\n",
    "\n",
    "Now that we have a network, let's see what happens when we pass in an image."
   ]
  },
  {
   "cell_type": "code",
   "execution_count": 18,
   "metadata": {},
   "outputs": [
    {
     "data": {
      "image/png": "[encoded data removed]",
      "text/plain": [
       "<Figure size 432x648 with 2 Axes>"
      ]
     },
     "metadata": {
      "image/png": {
       "height": 235,
       "width": 424
      },
      "needs_background": "light"
     },
     "output_type": "display_data"
    }
   ],
   "source": [
    "# Grab some data \n",
    "dataiter = iter(trainloader)\n",
    "images, labels = dataiter.next()\n",
    "\n",
    "# Resize images into a 1D vector, new shape is (batch size, color channels, image pixels) \n",
    "images.resize_(64, 1, 784)\n",
    "# or images.resize_(images.shape[0], 1, 784) to automatically get batch size\n",
    "\n",
    "# Forward pass through the network\n",
    "img_idx = 0\n",
    "ps = model.forward(images[img_idx,:])\n",
    "\n",
    "img = images[img_idx]\n",
    "helper.view_classify(img.view(1, 28, 28), ps)"
   ]
  },
  {
   "cell_type": "markdown",
   "metadata": {},
   "source": [
    "As you can see above, our network has basically no idea what this digit is. It's because we haven't trained it yet, all the weights are random!\n",
    "\n",
    "### Using `nn.Sequential`\n",
    "\n",
    "PyTorch provides a convenient way to build networks like this where a tensor is passed sequentially through operations, `nn.Sequential` ([documentation](https://pytorch.org/docs/master/nn.html#torch.nn.Sequential)). Using this to build the equivalent network:"
   ]
  },
  {
   "cell_type": "code",
   "execution_count": 19,
   "metadata": {},
   "outputs": [
    {
     "name": "stdout",
     "output_type": "stream",
     "text": [
      "Sequential(\n",
      "  (0): Linear(in_features=784, out_features=128, bias=True)\n",
      "  (1): ReLU()\n",
      "  (2): Linear(in_features=128, out_features=64, bias=True)\n",
      "  (3): ReLU()\n",
      "  (4): Linear(in_features=64, out_features=10, bias=True)\n",
      "  (5): Softmax(dim=1)\n",
      ")\n"
     ]
    },
    {
     "data": {
      "image/png": "[encoded data removed]",
      "text/plain": [
       "<Figure size 432x648 with 2 Axes>"
      ]
     },
     "metadata": {
      "image/png": {
       "height": 235,
       "width": 424
      },
      "needs_background": "light"
     },
     "output_type": "display_data"
    }
   ],
   "source": [
    "# Hyperparameters for our network\n",
    "input_size = 784\n",
    "hidden_sizes = [128, 64]\n",
    "output_size = 10\n",
    "\n",
    "# Build a feed-forward network\n",
    "model = nn.Sequential(nn.Linear(input_size, hidden_sizes[0]),\n",
    "                      nn.ReLU(),\n",
    "                      nn.Linear(hidden_sizes[0], hidden_sizes[1]),\n",
    "                      nn.ReLU(),\n",
    "                      nn.Linear(hidden_sizes[1], output_size),\n",
    "                      nn.Softmax(dim=1))\n",
    "print(model)\n",
    "\n",
    "# Forward pass through the network and display output\n",
    "images, labels = next(iter(trainloader))\n",
    "images.resize_(images.shape[0], 1, 784)\n",
    "ps = model.forward(images[0,:])\n",
    "helper.view_classify(images[0].view(1, 28, 28), ps)"
   ]
  },
  {
   "cell_type": "markdown",
   "metadata": {},
   "source": [
    "Here our model is the same as before: 784 input units, a hidden layer with 128 units, ReLU activation, 64 unit hidden layer, another ReLU, then the output layer with 10 units, and the softmax output.\n",
    "\n",
    "The operations are available by passing in the appropriate index. For example, if you want to get first Linear operation and look at the weights, you'd use `model[0]`."
   ]
  },
  {
   "cell_type": "code",
   "execution_count": 20,
   "metadata": {},
   "outputs": [
    {
     "name": "stdout",
     "output_type": "stream",
     "text": [
      "Linear(in_features=784, out_features=128, bias=True)\n"
     ]
    },
    {
     "data": {
      "text/plain": [
       "Parameter containing:\n",
       "tensor([[ 0.0108, -0.0229,  0.0141,  ...,  0.0092, -0.0240,  0.0303],\n",
       "        [ 0.0048,  0.0242, -0.0121,  ...,  0.0243, -0.0246, -0.0240],\n",
       "        [-0.0314,  0.0165,  0.0066,  ...,  0.0178,  0.0183, -0.0019],\n",
       "        ...,\n",
       "        [-0.0271,  0.0039, -0.0297,  ..., -0.0338,  0.0327, -0.0199],\n",
       "        [-0.0324,  0.0199,  0.0356,  ...,  0.0343,  0.0315,  0.0037],\n",
       "        [ 0.0237, -0.0288,  0.0291,  ..., -0.0315,  0.0154,  0.0273]],\n",
       "       requires_grad=True)"
      ]
     },
     "execution_count": 20,
     "metadata": {},
     "output_type": "execute_result"
    }
   ],
   "source": [
    "print(model[0])\n",
    "model[0].weight"
   ]
  },
  {
   "cell_type": "markdown",
   "metadata": {},
   "source": [
    "You can also pass in an `OrderedDict` to name the individual layers and operations, instead of using incremental integers. Note that dictionary keys must be unique, so _each operation must have a different name_."
   ]
  },
  {
   "cell_type": "code",
   "execution_count": 21,
   "metadata": {},
   "outputs": [
    {
     "data": {
      "text/plain": [
       "Sequential(\n",
       "  (fc1): Linear(in_features=784, out_features=128, bias=True)\n",
       "  (relu1): ReLU()\n",
       "  (fc2): Linear(in_features=128, out_features=64, bias=True)\n",
       "  (relu2): ReLU()\n",
       "  (output): Linear(in_features=64, out_features=10, bias=True)\n",
       "  (softmax): Softmax(dim=1)\n",
       ")"
      ]
     },
     "execution_count": 21,
     "metadata": {},
     "output_type": "execute_result"
    }
   ],
   "source": [
    "from collections import OrderedDict\n",
    "model = nn.Sequential(OrderedDict([\n",
    "                      ('fc1', nn.Linear(input_size, hidden_sizes[0])),\n",
    "                      ('relu1', nn.ReLU()),\n",
    "                      ('fc2', nn.Linear(hidden_sizes[0], hidden_sizes[1])),\n",
    "                      ('relu2', nn.ReLU()),\n",
    "                      ('output', nn.Linear(hidden_sizes[1], output_size)),\n",
    "                      ('softmax', nn.Softmax(dim=1))]))\n",
    "model"
   ]
  },
  {
   "cell_type": "markdown",
   "metadata": {},
   "source": [
    "Now you can access layers either by integer or the name"
   ]
  },
  {
   "cell_type": "code",
   "execution_count": 22,
   "metadata": {},
   "outputs": [
    {
     "name": "stdout",
     "output_type": "stream",
     "text": [
      "Linear(in_features=784, out_features=128, bias=True)\n",
      "Linear(in_features=784, out_features=128, bias=True)\n"
     ]
    }
   ],
   "source": [
    "print(model[0])\n",
    "print(model.fc1)"
   ]
  },
  {
   "cell_type": "markdown",
   "metadata": {},
   "source": [
    "In the next notebook, we'll see how we can train a neural network to accuractly predict the numbers appearing in the MNIST images."
   ]
  },
  {
   "cell_type": "code",
   "execution_count": null,
   "metadata": {},
   "outputs": [],
   "source": []
  }
 ],
 "metadata": {
  "kernelspec": {
   "display_name": "Python 3",
   "language": "python",
   "name": "python3"
  },
  "language_info": {
   "codemirror_mode": {
    "name": "ipython",
    "version": 3
   },
   "file_extension": ".py",
   "mimetype": "text/x-python",
   "name": "python",
   "nbconvert_exporter": "python",
   "pygments_lexer": "ipython3",
   "version": "3.7.4"
  }
 },
 "nbformat": 4,
 "nbformat_minor": 2
}
